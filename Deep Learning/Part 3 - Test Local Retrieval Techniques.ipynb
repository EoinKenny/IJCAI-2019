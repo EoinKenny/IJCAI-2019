{
 "cells": [
  {
   "cell_type": "markdown",
   "metadata": {},
   "source": [
    "# 3: Test Agreement -- Normal Data"
   ]
  },
  {
   "cell_type": "code",
   "execution_count": 1,
   "metadata": {},
   "outputs": [
    {
     "name": "stderr",
     "output_type": "stream",
     "text": [
      "Using TensorFlow backend.\n"
     ]
    }
   ],
   "source": [
    "import pandas as pd\n",
    "import numpy as np\n",
    "import pickle\n",
    "import time\n",
    "\n",
    "from collections import Counter\n",
    "\n",
    "from copy import deepcopy\n",
    "\n",
    "from sklearn.metrics import accuracy_score, confusion_matrix\n",
    "from sklearn.metrics.pairwise import euclidean_distances\n",
    "from sklearn.preprocessing import MinMaxScaler\n",
    "from sklearn.neighbors import KNeighborsClassifier\n",
    "\n",
    "# For keras dependencise\n",
    "from keras.models import Sequential, load_model\n",
    "from keras.layers import Dense, Activation\n",
    "from keras import backend as K\n",
    "\n",
    "# For LRP Visuals\n",
    "from deepexplain.tensorflow import DeepExplain\n",
    "from keras.models import Model\n",
    "\n",
    "import matplotlib.pyplot as plt\n",
    "%matplotlib inline"
   ]
  },
  {
   "cell_type": "markdown",
   "metadata": {},
   "source": [
    "## Load Data Etc."
   ]
  },
  {
   "cell_type": "code",
   "execution_count": 2,
   "metadata": {},
   "outputs": [],
   "source": [
    "# Pick a value of k for the dataset\n",
    "k = 1"
   ]
  },
  {
   "cell_type": "code",
   "execution_count": 3,
   "metadata": {},
   "outputs": [],
   "source": [
    "# # load the models from disk\n",
    "model = load_model(\"NN.h5\")"
   ]
  },
  {
   "cell_type": "code",
   "execution_count": 4,
   "metadata": {},
   "outputs": [],
   "source": [
    "# Load Data\n",
    "X_train = np.load(\"X_train.npy\")\n",
    "X_test = np.load(\"X_test.npy\")\n",
    "y_train = np.load(\"y_train.npy\")\n",
    "y_test = np.load(\"y_test.npy\")\n",
    "\n",
    "# Load the feature activations\n",
    "X_train_act = np.load(\"X_train_act.npy\")\n",
    "X_test_act = np.load(\"X_test_act.npy\")\n",
    "\n",
    "# Load DeepLIFT contributions\n",
    "X_train_cont = np.load(\"new_X_train_deeplift.npy\")\n",
    "X_test_cont = np.load(\"new_X_test_deeplift.npy\")"
   ]
  },
  {
   "cell_type": "markdown",
   "metadata": {},
   "source": [
    "## Contributions Search"
   ]
  },
  {
   "cell_type": "code",
   "execution_count": 5,
   "metadata": {},
   "outputs": [],
   "source": [
    "nn_pred = model.predict_classes(X_test)"
   ]
  },
  {
   "cell_type": "code",
   "execution_count": 6,
   "metadata": {},
   "outputs": [],
   "source": [
    "X_train_knn = X_train.reshape(X_train.shape[0], 28*28)\n",
    "X_test_knn = X_test.reshape(X_test.shape[0], 28*28)"
   ]
  },
  {
   "cell_type": "code",
   "execution_count": 7,
   "metadata": {},
   "outputs": [
    {
     "name": "stdout",
     "output_type": "stream",
     "text": [
      "DeepLIFT-KNN: (60000, 128)\n",
      "Activations: (60000, 128)\n",
      "Training: (60000, 1, 28, 28)\n",
      "Training k-NN: (60000, 784)\n",
      "y_test: (10000,)\n"
     ]
    }
   ],
   "source": [
    "print(\"DeepLIFT-KNN:\", X_train_cont.shape)\n",
    "print(\"Activations:\", X_train_act.shape)\n",
    "print(\"Training:\", X_train.shape)\n",
    "print(\"Training k-NN:\", X_train_knn.shape)\n",
    "print(\"y_test:\", y_test.shape)"
   ]
  },
  {
   "cell_type": "code",
   "execution_count": 8,
   "metadata": {},
   "outputs": [
    {
     "name": "stdout",
     "output_type": "stream",
     "text": [
      "==================================================\n",
      "k-NN*\n",
      "==================================================\n",
      "Accuracy: 0.9932\n",
      "[[ 978    0    0    0    0    0    0    1    1    0]\n",
      " [   0 1135    0    0    0    0    0    0    0    0]\n",
      " [   2    1 1025    0    0    0    0    3    1    0]\n",
      " [   0    0    1 1004    0    2    0    1    2    0]\n",
      " [   0    0    0    0  977    0    1    0    0    4]\n",
      " [   1    0    0    5    0  885    1    0    0    0]\n",
      " [   2    2    0    0    1    2  951    0    0    0]\n",
      " [   0    4    4    0    0    0    0 1017    1    2]\n",
      " [   2    0    2    1    0    1    0    1  965    2]\n",
      " [   0    2    0    1    5    2    0    3    1  995]]\n",
      " \n",
      "Agreement 0.9944\n",
      "==================================================\n",
      "C-DeepLIFT\n",
      "==================================================\n",
      "Accuracy: 0.9937\n",
      "[[ 978    0    0    0    0    0    0    1    1    0]\n",
      " [   0 1134    0    1    0    0    0    0    0    0]\n",
      " [   0    1 1030    0    0    0    0    1    0    0]\n",
      " [   0    0    0 1007    0    2    0    0    1    0]\n",
      " [   0    0    0    0  978    0    1    0    0    3]\n",
      " [   1    0    0    6    0  882    1    0    1    1]\n",
      " [   3    2    1    0    1    4  947    0    0    0]\n",
      " [   0    4    6    0    0    0    0 1016    1    1]\n",
      " [   2    0    2    2    0    1    0    0  964    3]\n",
      " [   0    0    1    0    4    1    0    1    1 1001]]\n",
      " \n",
      "Agreement 0.9996\n"
     ]
    }
   ],
   "source": [
    "techniques = [\n",
    "    [\"k-NN*\", X_train_act, X_test_act],\n",
    "    [\"C-DeepLIFT\", X_train_cont, X_test_cont]\n",
    "             ]\n",
    "\n",
    "for item in techniques:\n",
    "    technique = item[0]\n",
    "    train = item[1]\n",
    "    test = item[2]\n",
    "\n",
    "    print(\"==================================================\")\n",
    "    print(technique)\n",
    "    print(\"==================================================\")\n",
    "\n",
    "    kNN = KNeighborsClassifier(n_neighbors=3, algorithm=\"brute\") \n",
    "    kNN.fit(train, y_train)\n",
    "\n",
    "    knn_predictions_test = kNN.predict(test)\n",
    "    print(\"Accuracy:\", accuracy_score(y_test, knn_predictions_test))\n",
    "    print(confusion_matrix(y_test, knn_predictions_test, labels=None, sample_weight=None))\n",
    "    print(\" \")\n",
    "    \n",
    "    # What's the % that's different?\n",
    "    correct = 0\n",
    "    for i in range(len(nn_pred)):\n",
    "        if knn_predictions_test[i] == nn_pred[i]:\n",
    "            correct += 1\n",
    "    print(\"Agreement\", correct/len(nn_pred))"
   ]
  }
 ],
 "metadata": {
  "kernelspec": {
   "display_name": "Python 3",
   "language": "python",
   "name": "python3"
  },
  "language_info": {
   "codemirror_mode": {
    "name": "ipython",
    "version": 3
   },
   "file_extension": ".py",
   "mimetype": "text/x-python",
   "name": "python",
   "nbconvert_exporter": "python",
   "pygments_lexer": "ipython3",
   "version": "3.6.7"
  }
 },
 "nbformat": 4,
 "nbformat_minor": 2
}
