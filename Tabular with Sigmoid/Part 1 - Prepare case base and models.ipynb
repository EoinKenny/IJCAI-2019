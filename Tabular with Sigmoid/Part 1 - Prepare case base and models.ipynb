{
 "cells": [
  {
   "cell_type": "markdown",
   "metadata": {},
   "source": [
    "# Default of Credit Ratings Dataset\n",
    "## 1: Clean Data, Save Case Base and Models"
   ]
  },
  {
   "cell_type": "code",
   "execution_count": 1,
   "metadata": {},
   "outputs": [
    {
     "name": "stderr",
     "output_type": "stream",
     "text": [
      "Using TensorFlow backend.\n"
     ]
    }
   ],
   "source": [
    "import pickle\n",
    "import pandas as pd\n",
    "import numpy as np\n",
    "\n",
    "from keras.models import Sequential\n",
    "from keras.layers import Dense, Activation\n",
    "\n",
    "from sklearn.neighbors import KNeighborsClassifier\n",
    "from sklearn.model_selection import cross_val_score, train_test_split\n",
    "from sklearn.preprocessing import MinMaxScaler\n",
    "from sklearn.metrics import accuracy_score, confusion_matrix"
   ]
  },
  {
   "cell_type": "code",
   "execution_count": 2,
   "metadata": {},
   "outputs": [],
   "source": [
    "df = pd.read_excel(\"default of credit card clients.xls\")"
   ]
  },
  {
   "cell_type": "code",
   "execution_count": 3,
   "metadata": {},
   "outputs": [],
   "source": [
    "# Save target y and dummy the X matrix\n",
    "y = df[\"credible\"]\n",
    "del df[\"credible\"]\n",
    "del df[\"ID\"]\n",
    "\n",
    "# One hot encode fully to get high dimensional space\n",
    "df = pd.get_dummies(df, columns=[\"SEX\"])\n",
    "df = pd.get_dummies(df, columns=[\"EDUCATION\"])\n",
    "df = pd.get_dummies(df, columns=[\"MARRIAGE\"])"
   ]
  },
  {
   "cell_type": "code",
   "execution_count": 4,
   "metadata": {},
   "outputs": [
    {
     "name": "stderr",
     "output_type": "stream",
     "text": [
      "/anaconda3/envs/exp1/lib/python3.6/site-packages/sklearn/utils/validation.py:595: DataConversionWarning: Data with input dtype int64 was converted to float64 by MinMaxScaler.\n",
      "  warnings.warn(msg, DataConversionWarning)\n"
     ]
    }
   ],
   "source": [
    "# Scale the Training Data Matrix\n",
    "scaler = MinMaxScaler(feature_range=(-1, 1), copy=True)\n",
    "scaler.fit(df.values)\n",
    "X = scaler.transform(df.values)\n",
    "y = y.values"
   ]
  },
  {
   "cell_type": "markdown",
   "metadata": {},
   "source": [
    "## Make Case Base: "
   ]
  },
  {
   "cell_type": "code",
   "execution_count": 5,
   "metadata": {},
   "outputs": [],
   "source": [
    "# Save modified df (to save column names etc.)\n",
    "df.to_csv(\"processed_df.csv\", index=False)"
   ]
  },
  {
   "cell_type": "code",
   "execution_count": 6,
   "metadata": {},
   "outputs": [],
   "source": [
    "# Make case base\n",
    "X_train, X_test, y_train, y_test = train_test_split(X, y, test_size=0.2, random_state=42)"
   ]
  },
  {
   "cell_type": "markdown",
   "metadata": {},
   "source": [
    "## Train a Keras MLP"
   ]
  },
  {
   "cell_type": "code",
   "execution_count": 7,
   "metadata": {
    "scrolled": true
   },
   "outputs": [
    {
     "name": "stdout",
     "output_type": "stream",
     "text": [
      "Epoch 1/30\n",
      "24000/24000 [==============================] - 6s 261us/step - loss: 0.4846 - acc: 0.7953\n",
      "Epoch 2/30\n",
      "24000/24000 [==============================] - 5s 227us/step - loss: 0.4661 - acc: 0.8077\n",
      "Epoch 3/30\n",
      "24000/24000 [==============================] - 5s 228us/step - loss: 0.4598 - acc: 0.8099\n",
      "Epoch 4/30\n",
      "24000/24000 [==============================] - 5s 228us/step - loss: 0.4558 - acc: 0.8125\n",
      "Epoch 5/30\n",
      "24000/24000 [==============================] - 5s 228us/step - loss: 0.4529 - acc: 0.8135\n",
      "Epoch 6/30\n",
      "24000/24000 [==============================] - 5s 228us/step - loss: 0.4510 - acc: 0.8157\n",
      "Epoch 7/30\n",
      "24000/24000 [==============================] - 6s 229us/step - loss: 0.4487 - acc: 0.8165 1s - loss\n",
      "Epoch 8/30\n",
      "24000/24000 [==============================] - 6s 230us/step - loss: 0.4479 - acc: 0.8161\n",
      "Epoch 9/30\n",
      "24000/24000 [==============================] - 6s 230us/step - loss: 0.4469 - acc: 0.8177\n",
      "Epoch 10/30\n",
      "24000/24000 [==============================] - 6s 232us/step - loss: 0.4455 - acc: 0.8182\n",
      "Epoch 11/30\n",
      "24000/24000 [==============================] - 6s 232us/step - loss: 0.4449 - acc: 0.8187\n",
      "Epoch 12/30\n",
      "24000/24000 [==============================] - 8s 332us/step - loss: 0.4442 - acc: 0.8199\n",
      "Epoch 13/30\n",
      "24000/24000 [==============================] - 7s 279us/step - loss: 0.4445 - acc: 0.8183 0s - loss: 0.444\n",
      "Epoch 14/30\n",
      "24000/24000 [==============================] - 6s 233us/step - loss: 0.4433 - acc: 0.8193\n",
      "Epoch 15/30\n",
      "24000/24000 [==============================] - 6s 233us/step - loss: 0.4427 - acc: 0.8205\n",
      "Epoch 16/30\n",
      "24000/24000 [==============================] - 6s 237us/step - loss: 0.4419 - acc: 0.8207\n",
      "Epoch 17/30\n",
      "24000/24000 [==============================] - 6s 239us/step - loss: 0.4428 - acc: 0.8190\n",
      "Epoch 18/30\n",
      "24000/24000 [==============================] - 6s 234us/step - loss: 0.4411 - acc: 0.8210\n",
      "Epoch 19/30\n",
      "24000/24000 [==============================] - 7s 275us/step - loss: 0.4412 - acc: 0.8203\n",
      "Epoch 20/30\n",
      "24000/24000 [==============================] - 6s 251us/step - loss: 0.4408 - acc: 0.8204\n",
      "Epoch 21/30\n",
      "24000/24000 [==============================] - 5s 217us/step - loss: 0.4412 - acc: 0.8205\n",
      "Epoch 22/30\n",
      "24000/24000 [==============================] - 6s 241us/step - loss: 0.4400 - acc: 0.8198\n",
      "Epoch 23/30\n",
      "24000/24000 [==============================] - 6s 236us/step - loss: 0.4399 - acc: 0.8187 1s - loss: \n",
      "Epoch 24/30\n",
      "24000/24000 [==============================] - 6s 229us/step - loss: 0.4397 - acc: 0.8204 - ETA: \n",
      "Epoch 25/30\n",
      "24000/24000 [==============================] - 5s 227us/step - loss: 0.4395 - acc: 0.8196\n",
      "Epoch 26/30\n",
      "24000/24000 [==============================] - 6s 266us/step - loss: 0.4397 - acc: 0.8195\n",
      "Epoch 27/30\n",
      "24000/24000 [==============================] - 6s 267us/step - loss: 0.4389 - acc: 0.8205 0s - loss: 0.4401 - \n",
      "Epoch 28/30\n",
      "24000/24000 [==============================] - 6s 235us/step - loss: 0.4391 - acc: 0.8210\n",
      "Epoch 29/30\n",
      "24000/24000 [==============================] - 6s 243us/step - loss: 0.4389 - acc: 0.8210\n",
      "Epoch 30/30\n",
      "24000/24000 [==============================] - 6s 235us/step - loss: 0.4379 - acc: 0.8206\n",
      "24000/24000 [==============================] - 1s 22us/step\n",
      "Training Set: \n",
      "acc: 82.21%\n",
      "6000/6000 [==============================] - 0s 19us/step\n",
      "Test Set: \n",
      "acc: 81.75%\n"
     ]
    }
   ],
   "source": [
    "model = Sequential()\n",
    "model.add(Dense(len(X_train[0]), input_dim=len(X_train[0])))\n",
    "model.add(Activation(\"relu\"))\n",
    "model.add(Dense(1))\n",
    "model.add(Activation(\"sigmoid\"))\n",
    "\n",
    "model.compile(loss='binary_crossentropy', optimizer='adam', metrics=['accuracy'])\n",
    "\n",
    "model.fit(X_train, y_train, epochs=30, batch_size=8)\n",
    "\n",
    "scores = model.evaluate(X_train, y_train)\n",
    "print(\"Training Set:\", \"\\n%s: %.2f%%\" % (model.metrics_names[1], scores[1]*100))\n",
    "\n",
    "scores = model.evaluate(X_test, y_test)\n",
    "print(\"Test Set:\", \"\\n%s: %.2f%%\" % (model.metrics_names[1], scores[1]*100))"
   ]
  },
  {
   "cell_type": "code",
   "execution_count": 8,
   "metadata": {},
   "outputs": [
    {
     "data": {
      "text/plain": [
       "KNeighborsClassifier(algorithm='brute', leaf_size=30, metric='minkowski',\n",
       "           metric_params=None, n_jobs=None, n_neighbors=1, p=2,\n",
       "           weights='uniform')"
      ]
     },
     "execution_count": 8,
     "metadata": {},
     "output_type": "execute_result"
    }
   ],
   "source": [
    "# Use brute for maximum reliability in experiments\n",
    "knn_clf = KNeighborsClassifier(n_neighbors=1, algorithm=\"brute\") \n",
    "knn_clf.fit(X_train, y_train)"
   ]
  },
  {
   "cell_type": "code",
   "execution_count": 9,
   "metadata": {},
   "outputs": [
    {
     "name": "stdout",
     "output_type": "stream",
     "text": [
      "k-NN Accuracy Test: 0.732\n"
     ]
    }
   ],
   "source": [
    "knn_predictions_test = knn_clf.predict(X_test)\n",
    "print(\"k-NN Accuracy Test:\", accuracy_score(y_test, knn_predictions_test))"
   ]
  },
  {
   "cell_type": "code",
   "execution_count": 10,
   "metadata": {},
   "outputs": [
    {
     "data": {
      "text/plain": [
       "array([[3852,  835],\n",
       "       [ 773,  540]])"
      ]
     },
     "execution_count": 10,
     "metadata": {},
     "output_type": "execute_result"
    }
   ],
   "source": [
    "confusion_matrix(y_test, knn_predictions_test, labels=None, sample_weight=None)"
   ]
  },
  {
   "cell_type": "code",
   "execution_count": 11,
   "metadata": {},
   "outputs": [
    {
     "data": {
      "text/plain": [
       "array([[4459,  228],\n",
       "       [ 867,  446]])"
      ]
     },
     "execution_count": 11,
     "metadata": {},
     "output_type": "execute_result"
    }
   ],
   "source": [
    "confusion_matrix(y_test, model.predict_classes(X_test), labels=None, sample_weight=None)"
   ]
  },
  {
   "cell_type": "code",
   "execution_count": 12,
   "metadata": {},
   "outputs": [],
   "source": [
    "pickle.dump(knn_clf, open('k-nn_model.sav', 'wb'))"
   ]
  },
  {
   "cell_type": "code",
   "execution_count": 13,
   "metadata": {},
   "outputs": [],
   "source": [
    "model.save(\"NN.h5\")"
   ]
  },
  {
   "cell_type": "code",
   "execution_count": 14,
   "metadata": {},
   "outputs": [],
   "source": [
    "np.save(\"X_train\", X_train)\n",
    "np.save(\"X_test\", X_test)\n",
    "np.save(\"y_train\", y_train)\n",
    "np.save(\"y_test\", y_test)"
   ]
  }
 ],
 "metadata": {
  "kernelspec": {
   "display_name": "Python 3",
   "language": "python",
   "name": "python3"
  },
  "language_info": {
   "codemirror_mode": {
    "name": "ipython",
    "version": 3
   },
   "file_extension": ".py",
   "mimetype": "text/x-python",
   "name": "python",
   "nbconvert_exporter": "python",
   "pygments_lexer": "ipython3",
   "version": "3.6.7"
  }
 },
 "nbformat": 4,
 "nbformat_minor": 2
}
