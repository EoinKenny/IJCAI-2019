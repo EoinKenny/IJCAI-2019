{
 "cells": [
  {
   "cell_type": "markdown",
   "metadata": {},
   "source": [
    "# 5: Test Case Retrieval With Local Methods"
   ]
  },
  {
   "cell_type": "code",
   "execution_count": 2,
   "metadata": {},
   "outputs": [],
   "source": [
    "import pandas as pd\n",
    "import numpy as np\n",
    "import pickle\n",
    "import time\n",
    "\n",
    "from sklearn.metrics import accuracy_score, confusion_matrix\n",
    "from sklearn.metrics.pairwise import euclidean_distances\n",
    "from sklearn.neighbors import KNeighborsClassifier\n",
    "\n",
    "from collections import Counter\n",
    "\n",
    "from copy import deepcopy\n",
    "\n",
    "from keras.models import Sequential, load_model\n",
    "from keras.layers import Dense, Activation\n",
    "from keras import backend as K\n",
    "\n",
    "# My own algorithms\n",
    "from Weighted_KNN_Classifier import LocalWeightedKNN"
   ]
  },
  {
   "cell_type": "code",
   "execution_count": 3,
   "metadata": {},
   "outputs": [],
   "source": [
    "df = pd.read_csv(\"processed_df.csv\")\n",
    "feature_names = df.columns"
   ]
  },
  {
   "cell_type": "markdown",
   "metadata": {},
   "source": [
    "## Load Data Etc."
   ]
  },
  {
   "cell_type": "code",
   "execution_count": 4,
   "metadata": {},
   "outputs": [],
   "source": [
    "k = 1"
   ]
  },
  {
   "cell_type": "code",
   "execution_count": 5,
   "metadata": {},
   "outputs": [],
   "source": [
    "knn_clf = pickle.load(open(\"k-nn_model.sav\", 'rb'))\n",
    "model = load_model(\"NN.h5\")"
   ]
  },
  {
   "cell_type": "code",
   "execution_count": 6,
   "metadata": {},
   "outputs": [],
   "source": [
    "X_train = np.load(\"X_train.npy\")\n",
    "X_test = np.load(\"X_test.npy\")\n",
    "y_train = np.load(\"y_train.npy\")\n",
    "y_test = np.load(\"y_test.npy\")"
   ]
  },
  {
   "cell_type": "code",
   "execution_count": 9,
   "metadata": {},
   "outputs": [],
   "source": [
    "X_train_grad_LIME = np.load(\"X_train_grad_LIME.npy\")\n",
    "X_test_grad_LIME = np.load(\"X_test_grad_LIME.npy\")\n",
    "\n",
    "X_train_intgrad = np.load(\"X_train_intgrad.npy\")\n",
    "X_test_intgrad = np.load(\"X_test_intgrad.npy\")\n",
    "X_train_deeplift = np.load(\"X_train_deeplift.npy\")\n",
    "X_test_deeplift = np.load(\"X_test_deeplift.npy\")\n",
    "X_train_lrp = np.load(\"X_train_lrp.npy\")\n",
    "X_test_lrp = np.load(\"X_test_lrp.npy\")"
   ]
  },
  {
   "cell_type": "markdown",
   "metadata": {},
   "source": [
    "## Contributions Search - Novel Method\n",
    "Search for similar cases based on the contributions of each feature, <i>not</i> their feature values."
   ]
  },
  {
   "cell_type": "code",
   "execution_count": 10,
   "metadata": {},
   "outputs": [],
   "source": [
    "nn_pred = model.predict_classes(X_test)"
   ]
  },
  {
   "cell_type": "code",
   "execution_count": 11,
   "metadata": {},
   "outputs": [
    {
     "name": "stdout",
     "output_type": "stream",
     "text": [
      "==================================================\n",
      "k-NN*\n",
      "==================================================\n",
      "Accuracy: 0.732\n",
      "[[3852  835]\n",
      " [ 773  540]]\n",
      " \n",
      "Agreement: 0.8168333333333333\n",
      "==================================================\n",
      "C-DeepLIFT\n",
      "==================================================\n",
      "Accuracy: 0.7406666666666667\n",
      "[[3917  770]\n",
      " [ 786  527]]\n",
      " \n",
      "Agreement: 0.8241666666666667\n",
      "==================================================\n",
      "C-Integraded Gradients\n",
      "==================================================\n",
      "Accuracy: 0.7438333333333333\n",
      "[[3915  772]\n",
      " [ 765  548]]\n",
      " \n",
      "Agreement: 0.8256666666666667\n",
      "==================================================\n",
      "C-LRP\n",
      "==================================================\n",
      "Accuracy: 0.74\n",
      "[[3914  773]\n",
      " [ 787  526]]\n",
      " \n",
      "Agreement: 0.8295\n"
     ]
    }
   ],
   "source": [
    "techniques = [[\"k-NN*\", X_train, X_test],\n",
    "              [\"C-DeepLIFT\", X_train_deeplift, X_test_deeplift],\n",
    "              [\"C-Integraded Gradients\", X_train_intgrad, X_test_intgrad],\n",
    "              [\"C-LRP\", X_train_lrp, X_test_lrp]]\n",
    "\n",
    "for item in techniques:\n",
    "    \n",
    "    technique = item[0]\n",
    "    train = item[1]\n",
    "    test = item[2]\n",
    "\n",
    "    print(\"==================================================\")\n",
    "    print(technique)\n",
    "    print(\"==================================================\")\n",
    "\n",
    "    kNN = KNeighborsClassifier(n_neighbors=k, algorithm=\"brute\") \n",
    "    kNN.fit(train, y_train)\n",
    "\n",
    "    knn_predictions_test = kNN.predict(test)\n",
    "    print(\"Accuracy:\", accuracy_score(y_test, knn_predictions_test))\n",
    "    print(confusion_matrix(y_test, knn_predictions_test, labels=None, sample_weight=None))\n",
    "    print(\" \")\n",
    "    \n",
    "    right = 0\n",
    "    for i in range(len(nn_pred)):\n",
    "        if knn_predictions_test[i] == nn_pred[i]:\n",
    "            right += 1\n",
    "\n",
    "    print(\"Agreement:\", right/len(nn_pred))"
   ]
  },
  {
   "cell_type": "markdown",
   "metadata": {},
   "source": [
    "## Local Linear Model - Nugent and Cunningham\n",
    "We can use the values to weigh a k-NN search across normal euclidean space.\n",
    "\n",
    "$Distance(x,q) = \\sqrt{\\sum_{f=1}^{n}|w_{f}|Difference(x_f, q_f)^2}$"
   ]
  },
  {
   "cell_type": "code",
   "execution_count": 12,
   "metadata": {},
   "outputs": [],
   "source": [
    "weighted_knn = LocalWeightedKNN()\n",
    "weighted_knn.fit(X_train, y_train, k=k)"
   ]
  },
  {
   "cell_type": "code",
   "execution_count": 14,
   "metadata": {
    "scrolled": false
   },
   "outputs": [
    {
     "name": "stdout",
     "output_type": "stream",
     "text": [
      "==================================================\n",
      "Local Linear Model\n",
      "==================================================\n",
      "Accuracy:  0.7373333333333333\n",
      "[[3899  788]\n",
      " [ 788  525]]\n",
      "Time taken: 1102.377187013626\n",
      " \n",
      "Agreement: 0.8285\n"
     ]
    }
   ],
   "source": [
    "techniques = [[\"Local Linear Model\", X_test_grad_LIME[:, :len(feature_names)]]]\n",
    "\n",
    "for item in techniques:\n",
    "    \n",
    "    technique = item[0]\n",
    "    weights = item[1]\n",
    "\n",
    "    print(\"==================================================\")\n",
    "    print(technique)\n",
    "    print(\"==================================================\")\n",
    "\n",
    "    start = time.time()\n",
    "    predictions = list()\n",
    "\n",
    "    for i in range(len(X_test)):            \n",
    "        prediction = weighted_knn.predict(X_test[i], abs(weights[i]))\n",
    "        predictions.append(prediction)\n",
    "\n",
    "    print(\"Accuracy: \", accuracy_score(y_test, predictions))\n",
    "    print(confusion_matrix(y_test, predictions, labels=None, sample_weight=None))\n",
    "    print(\"Time taken:\", time.time() - start)\n",
    "    print(\" \")\n",
    "    \n",
    "    right = 0\n",
    "    for i in range(len(nn_pred)):\n",
    "        if predictions[i] == nn_pred[i]:\n",
    "            right += 1\n",
    "\n",
    "    print(\"Agreement:\", right/len(nn_pred))"
   ]
  }
 ],
 "metadata": {
  "kernelspec": {
   "display_name": "Python 3",
   "language": "python",
   "name": "python3"
  },
  "language_info": {
   "codemirror_mode": {
    "name": "ipython",
    "version": 3
   },
   "file_extension": ".py",
   "mimetype": "text/x-python",
   "name": "python",
   "nbconvert_exporter": "python",
   "pygments_lexer": "ipython3",
   "version": "3.6.7"
  }
 },
 "nbformat": 4,
 "nbformat_minor": 2
}
