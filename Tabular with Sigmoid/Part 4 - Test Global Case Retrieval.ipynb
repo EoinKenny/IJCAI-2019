{
 "cells": [
  {
   "cell_type": "markdown",
   "metadata": {},
   "source": [
    "# 3: Test Global Weighting Case Retrieval"
   ]
  },
  {
   "cell_type": "code",
   "execution_count": 1,
   "metadata": {},
   "outputs": [
    {
     "name": "stderr",
     "output_type": "stream",
     "text": [
      "Using TensorFlow backend.\n"
     ]
    }
   ],
   "source": [
    "import pandas as pd\n",
    "import numpy as np\n",
    "import pickle\n",
    "import time\n",
    "import keras\n",
    "\n",
    "from sklearn.metrics import accuracy_score, confusion_matrix\n",
    "from sklearn.metrics.pairwise import euclidean_distances, cosine_similarity\n",
    "from sklearn.preprocessing import MinMaxScaler\n",
    "\n",
    "from collections import Counter\n",
    "\n",
    "from copy import deepcopy\n",
    "\n",
    "from keras.models import load_model\n",
    "\n",
    "# My own algorithms\n",
    "from Weighted_KNN_Classifier import GlobalWeightedKNN"
   ]
  },
  {
   "cell_type": "code",
   "execution_count": 2,
   "metadata": {},
   "outputs": [],
   "source": [
    "# Load weights from previous notebook & organise into a list\n",
    "connection_weights = np.load('connection_weights.npy').item()\n",
    "garsons_weights = np.load('garsons_weights.npy').item()\n",
    "sensitivity_weights = np.load('sensitivity_weights.npy').item()\n",
    "perturb_weights = np.load('perturb_weights.npy').item()\n",
    "\n",
    "global_weights = [perturb_weights, sensitivity_weights, garsons_weights, connection_weights]"
   ]
  },
  {
   "cell_type": "code",
   "execution_count": 3,
   "metadata": {},
   "outputs": [],
   "source": [
    "# Load dataset for feature names (doesn't contain target)\n",
    "df = pd.read_csv(\"processed_df.csv\")\n",
    "feature_names = df.columns"
   ]
  },
  {
   "cell_type": "code",
   "execution_count": 4,
   "metadata": {},
   "outputs": [],
   "source": [
    "#### Create a list with all weights for all feature extraction techniques\n",
    "final_weights = []\n",
    "for i in range(len(global_weights)):\n",
    "    weights = global_weights[i]\n",
    "    weight_array = list()\n",
    "    for j in range(len(feature_names)):\n",
    "        if feature_names[j] in weights:\n",
    "            weight_array.append(weights[feature_names[j]])\n",
    "    final_weights.append(weight_array)"
   ]
  },
  {
   "cell_type": "code",
   "execution_count": 5,
   "metadata": {},
   "outputs": [],
   "source": [
    "# Make all weights positive => sign needs to be ignored.\n",
    "for i in range(len(final_weights)):\n",
    "    for j in range(len(final_weights[i])):\n",
    "        final_weights[i][j] = abs(final_weights[i][j])\n",
    "final_weights = np.array(final_weights)"
   ]
  },
  {
   "cell_type": "markdown",
   "metadata": {},
   "source": [
    "## Perform Sanity Checks"
   ]
  },
  {
   "cell_type": "code",
   "execution_count": 6,
   "metadata": {},
   "outputs": [],
   "source": [
    "knn_clf = pickle.load(open(\"k-nn_model.sav\", 'rb'))\n",
    "model = load_model(\"NN.h5\")"
   ]
  },
  {
   "cell_type": "code",
   "execution_count": 7,
   "metadata": {},
   "outputs": [],
   "source": [
    "X_train = np.load(\"X_train.npy\")\n",
    "X_test = np.load(\"X_test.npy\")\n",
    "y_train = np.load(\"y_train.npy\")\n",
    "y_test = np.load(\"y_test.npy\")"
   ]
  },
  {
   "cell_type": "code",
   "execution_count": 8,
   "metadata": {},
   "outputs": [
    {
     "name": "stdout",
     "output_type": "stream",
     "text": [
      "NN Accuracy Test: 0.8175\n",
      "k-NN Accuracy Test: 0.732\n"
     ]
    }
   ],
   "source": [
    "knn_pred = knn_clf.predict(X_test)\n",
    "nn_pred = model.predict_classes(X_test)\n",
    "print(\"NN Accuracy Test:\", accuracy_score(y_test, nn_pred))\n",
    "print(\"k-NN Accuracy Test:\", accuracy_score(y_test, knn_pred))"
   ]
  },
  {
   "cell_type": "markdown",
   "metadata": {},
   "source": [
    "## Test Global Weighting Case Retreival Techniques"
   ]
  },
  {
   "cell_type": "code",
   "execution_count": 10,
   "metadata": {},
   "outputs": [
    {
     "name": "stdout",
     "output_type": "stream",
     "text": [
      "=====================================\n",
      "Global Searches: k = 1\n",
      "=====================================\n",
      "Perturbation:  0.7358333333333333\n",
      "[[3889  798]\n",
      " [ 787  526]]\n",
      " \n",
      "Mean Agreement: 0.8226666666666667\n",
      " \n",
      "-------------------------------------\n",
      "Sensitivity:  0.735\n",
      "[[3877  810]\n",
      " [ 780  533]]\n",
      " \n",
      "Mean Agreement: 0.8195\n",
      " \n",
      "-------------------------------------\n",
      "Garson's Algorithm:  0.7348333333333333\n",
      "[[3869  818]\n",
      " [ 773  540]]\n",
      " \n",
      "Mean Agreement: 0.8186666666666667\n",
      " \n",
      "-------------------------------------\n",
      "Connection Weights:  0.7361666666666666\n",
      "[[3887  800]\n",
      " [ 783  530]]\n",
      " \n",
      "Mean Agreement: 0.8183333333333334\n",
      " \n",
      "-------------------------------------\n"
     ]
    }
   ],
   "source": [
    "k = 1\n",
    "\n",
    "print(\"=====================================\")\n",
    "print(\"Global Searches: k =\", k)\n",
    "print(\"=====================================\")\n",
    "for i in range(len(final_weights)):\n",
    "        \n",
    "    if i == 0:\n",
    "        technique = \"Perturbation\"\n",
    "    elif i == 1:\n",
    "        technique = \"Sensitivity\"\n",
    "    elif i == 2:\n",
    "        technique = \"Garson's Algorithm\"\n",
    "    elif i == 3:\n",
    "        technique = \"Connection Weights\"\n",
    "        \n",
    "    clf = GlobalWeightedKNN()\n",
    "    clf.fit(X_train, y_train, k=k, weights=final_weights[i])\n",
    "    predictions = clf.predict(X_test)\n",
    "    \n",
    "    print(technique + \": \", accuracy_score(y_test, predictions))\n",
    "    print(confusion_matrix(y_test, predictions, labels=None, sample_weight=None))\n",
    "    print(\" \")\n",
    "    \n",
    "    right = 0\n",
    "    for i in range(len(nn_pred)):\n",
    "        if predictions[i] == nn_pred[i]:\n",
    "            right += 1\n",
    "\n",
    "    print(\"Agreement:\", right/len(nn_pred))\n",
    "    print(\" \")\n",
    "    print(\"-------------------------------------\")"
   ]
  }
 ],
 "metadata": {
  "kernelspec": {
   "display_name": "Python 3",
   "language": "python",
   "name": "python3"
  },
  "language_info": {
   "codemirror_mode": {
    "name": "ipython",
    "version": 3
   },
   "file_extension": ".py",
   "mimetype": "text/x-python",
   "name": "python",
   "nbconvert_exporter": "python",
   "pygments_lexer": "ipython3",
   "version": "3.6.7"
  }
 },
 "nbformat": 4,
 "nbformat_minor": 2
}
