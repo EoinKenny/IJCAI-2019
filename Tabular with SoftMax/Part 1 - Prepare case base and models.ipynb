{
 "cells": [
  {
   "cell_type": "markdown",
   "metadata": {},
   "source": [
    "# Connect 4 Dataset\n",
    "\n",
    "## 1: Clean Data, Save Case Base and Models"
   ]
  },
  {
   "cell_type": "code",
   "execution_count": 1,
   "metadata": {},
   "outputs": [
    {
     "name": "stderr",
     "output_type": "stream",
     "text": [
      "Using TensorFlow backend.\n"
     ]
    }
   ],
   "source": [
    "import pickle\n",
    "import pandas as pd\n",
    "import numpy as np\n",
    "\n",
    "from keras.models import Sequential\n",
    "from keras.layers import Dense, Activation\n",
    "\n",
    "from sklearn.neighbors import KNeighborsClassifier\n",
    "from sklearn.model_selection import cross_val_score, train_test_split\n",
    "from sklearn.preprocessing import MinMaxScaler\n",
    "from sklearn.metrics import accuracy_score, confusion_matrix"
   ]
  },
  {
   "cell_type": "code",
   "execution_count": 2,
   "metadata": {},
   "outputs": [],
   "source": [
    "df = pd.read_table(\"connect-4.data\", sep=\",\")"
   ]
  },
  {
   "cell_type": "code",
   "execution_count": 3,
   "metadata": {},
   "outputs": [],
   "source": [
    "# Save target y and start prepping X matrix\n",
    "y = df[\"win\"]\n",
    "del df[\"win\"]\n",
    "\n",
    "y = y.map({'win': 2, 'loss': 1, 'draw': 0})\n",
    "df = pd.get_dummies(df)"
   ]
  },
  {
   "cell_type": "code",
   "execution_count": 4,
   "metadata": {},
   "outputs": [
    {
     "name": "stderr",
     "output_type": "stream",
     "text": [
      "/anaconda3/envs/exp1/lib/python3.6/site-packages/sklearn/utils/validation.py:595: DataConversionWarning: Data with input dtype uint8 was converted to float64 by MinMaxScaler.\n",
      "  warnings.warn(msg, DataConversionWarning)\n"
     ]
    }
   ],
   "source": [
    "# Scale the Training Data Matrix for neural network\n",
    "scaler = MinMaxScaler(feature_range=(-1, 1), copy=True)\n",
    "scaler.fit(df.values)\n",
    "X = scaler.transform(df.values)\n",
    "y = y.values"
   ]
  },
  {
   "cell_type": "markdown",
   "metadata": {},
   "source": [
    "## Make Case Base: "
   ]
  },
  {
   "cell_type": "code",
   "execution_count": 5,
   "metadata": {},
   "outputs": [],
   "source": [
    "# Save modified df (to save column names etc.)\n",
    "df.to_csv(\"processed_df.csv\", index=False)"
   ]
  },
  {
   "cell_type": "code",
   "execution_count": 6,
   "metadata": {},
   "outputs": [],
   "source": [
    "# Make case base\n",
    "X_train, X_test, y_train, y_test = train_test_split(X, y, test_size=0.1, random_state=42)"
   ]
  },
  {
   "cell_type": "code",
   "execution_count": 7,
   "metadata": {},
   "outputs": [],
   "source": [
    "# One hot encode for network\n",
    "from keras.utils import to_categorical\n",
    "oh_y_train = to_categorical(y_train)\n",
    "oh_y_test = to_categorical(y_test)"
   ]
  },
  {
   "cell_type": "markdown",
   "metadata": {},
   "source": [
    "## Train a Keras MLP"
   ]
  },
  {
   "cell_type": "code",
   "execution_count": 25,
   "metadata": {
    "scrolled": true
   },
   "outputs": [
    {
     "name": "stdout",
     "output_type": "stream",
     "text": [
      "Epoch 1/10\n",
      "60800/60800 [==============================] - 25s 411us/step - loss: 0.5833 - acc: 0.7661\n",
      "Epoch 2/10\n",
      "60800/60800 [==============================] - 23s 377us/step - loss: 0.4897 - acc: 0.8051\n",
      "Epoch 3/10\n",
      "60800/60800 [==============================] - 22s 366us/step - loss: 0.4617 - acc: 0.8151\n",
      "Epoch 4/10\n",
      "60800/60800 [==============================] - 22s 359us/step - loss: 0.4416 - acc: 0.8236\n",
      "Epoch 5/10\n",
      "60800/60800 [==============================] - 22s 362us/step - loss: 0.4281 - acc: 0.8291\n",
      "Epoch 6/10\n",
      "60800/60800 [==============================] - 22s 367us/step - loss: 0.4173 - acc: 0.8336\n",
      "Epoch 7/10\n",
      "60800/60800 [==============================] - 22s 361us/step - loss: 0.4071 - acc: 0.8369\n",
      "Epoch 8/10\n",
      "60800/60800 [==============================] - 22s 358us/step - loss: 0.3976 - acc: 0.8422\n",
      "Epoch 9/10\n",
      "60800/60800 [==============================] - 22s 359us/step - loss: 0.3919 - acc: 0.8431\n",
      "Epoch 10/10\n",
      "60800/60800 [==============================] - 23s 373us/step - loss: 0.3861 - acc: 0.8452\n",
      "60800/60800 [==============================] - 2s 25us/step\n",
      "Training Set: \n",
      "acc: 85.11%\n",
      "6756/6756 [==============================] - 0s 23us/step\n",
      "Test Set: \n",
      "acc: 83.69%\n"
     ]
    }
   ],
   "source": [
    "# Create model => Just a one layer NN\n",
    "model = Sequential()\n",
    "model.add(Dense(X_train.shape[1], input_dim=X_train.shape[1]))\n",
    "model.add(Activation(\"relu\"))\n",
    "model.add(Dense(3))\n",
    "model.add(Activation(\"softmax\"))\n",
    "\n",
    "# Compile model\n",
    "model.compile(loss='categorical_crossentropy', optimizer='adam', metrics=['accuracy'])\n",
    "\n",
    "# Fit the model\n",
    "model.fit(X_train, oh_y_train, epochs=10, batch_size=8)\n",
    "\n",
    "# evaluate the model\n",
    "scores = model.evaluate(X_train, oh_y_train)\n",
    "print(\"Training Set:\", \"\\n%s: %.2f%%\" % (model.metrics_names[1], scores[1]*100))\n",
    "\n",
    "scores = model.evaluate(X_test, oh_y_test)\n",
    "print(\"Test Set:\", \"\\n%s: %.2f%%\" % (model.metrics_names[1], scores[1]*100))"
   ]
  },
  {
   "cell_type": "code",
   "execution_count": 26,
   "metadata": {},
   "outputs": [
    {
     "data": {
      "text/plain": [
       "KNeighborsClassifier(algorithm='brute', leaf_size=30, metric='minkowski',\n",
       "           metric_params=None, n_jobs=None, n_neighbors=1, p=2,\n",
       "           weights='uniform')"
      ]
     },
     "execution_count": 26,
     "metadata": {},
     "output_type": "execute_result"
    }
   ],
   "source": [
    "# Use brute for maximum reliability in experiments\n",
    "knn_clf = KNeighborsClassifier(n_neighbors=1, algorithm=\"brute\") \n",
    "knn_clf.fit(X_train, y_train)"
   ]
  },
  {
   "cell_type": "code",
   "execution_count": 27,
   "metadata": {},
   "outputs": [
    {
     "name": "stdout",
     "output_type": "stream",
     "text": [
      "k-NN Accuracy Test: 0.6626702190645353\n"
     ]
    }
   ],
   "source": [
    "knn_predictions_test = knn_clf.predict(X_test)\n",
    "print(\"k-NN Accuracy Test:\", accuracy_score(y_test, knn_predictions_test))"
   ]
  },
  {
   "cell_type": "code",
   "execution_count": 28,
   "metadata": {},
   "outputs": [
    {
     "data": {
      "text/plain": [
       "array([[ 164,  165,  300],\n",
       "       [ 218,  787,  621],\n",
       "       [ 332,  643, 3526]])"
      ]
     },
     "execution_count": 28,
     "metadata": {},
     "output_type": "execute_result"
    }
   ],
   "source": [
    "confusion_matrix(y_test, knn_predictions_test, labels=None, sample_weight=None)"
   ]
  },
  {
   "cell_type": "code",
   "execution_count": 29,
   "metadata": {},
   "outputs": [
    {
     "data": {
      "text/plain": [
       "array([[ 112,  219,  298],\n",
       "       [  45, 1309,  272],\n",
       "       [  56,  212, 4233]])"
      ]
     },
     "execution_count": 29,
     "metadata": {},
     "output_type": "execute_result"
    }
   ],
   "source": [
    "confusion_matrix(y_test, model.predict_classes(X_test), labels=None, sample_weight=None)"
   ]
  },
  {
   "cell_type": "code",
   "execution_count": 30,
   "metadata": {},
   "outputs": [],
   "source": [
    "pickle.dump(knn_clf, open('k-nn_model.sav', 'wb'))"
   ]
  },
  {
   "cell_type": "code",
   "execution_count": 31,
   "metadata": {},
   "outputs": [],
   "source": [
    "model.save(\"NN.h5\")"
   ]
  },
  {
   "cell_type": "code",
   "execution_count": 32,
   "metadata": {},
   "outputs": [],
   "source": [
    "np.save(\"X_train\", X_train)\n",
    "np.save(\"X_test\", X_test)\n",
    "np.save(\"y_train\", y_train)\n",
    "np.save(\"y_test\", y_test)\n",
    "\n",
    "np.save(\"oh_y_train\", oh_y_train)\n",
    "np.save(\"oh_y_test\", oh_y_test)"
   ]
  }
 ],
 "metadata": {
  "kernelspec": {
   "display_name": "Python 3",
   "language": "python",
   "name": "python3"
  },
  "language_info": {
   "codemirror_mode": {
    "name": "ipython",
    "version": 3
   },
   "file_extension": ".py",
   "mimetype": "text/x-python",
   "name": "python",
   "nbconvert_exporter": "python",
   "pygments_lexer": "ipython3",
   "version": "3.6.7"
  }
 },
 "nbformat": 4,
 "nbformat_minor": 2
}
