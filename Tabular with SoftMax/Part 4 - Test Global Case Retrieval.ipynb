{
 "cells": [
  {
   "cell_type": "markdown",
   "metadata": {},
   "source": [
    "# 3: Test Global Weighting Case Retrieval"
   ]
  },
  {
   "cell_type": "code",
   "execution_count": 1,
   "metadata": {},
   "outputs": [
    {
     "name": "stderr",
     "output_type": "stream",
     "text": [
      "Using TensorFlow backend.\n"
     ]
    }
   ],
   "source": [
    "import pandas as pd\n",
    "import numpy as np\n",
    "import pickle\n",
    "import time\n",
    "import keras\n",
    "\n",
    "from sklearn.metrics import accuracy_score, confusion_matrix\n",
    "from sklearn.metrics.pairwise import euclidean_distances, cosine_similarity\n",
    "from sklearn.preprocessing import MinMaxScaler\n",
    "\n",
    "from collections import Counter\n",
    "\n",
    "from copy import deepcopy\n",
    "\n",
    "from keras.models import load_model\n",
    "\n",
    "# My own algorithms\n",
    "from Weighted_KNN_Classifier import GlobalWeightedKNN"
   ]
  },
  {
   "cell_type": "code",
   "execution_count": 2,
   "metadata": {},
   "outputs": [],
   "source": [
    "# Load weights from previous notebook & organise into a list\n",
    "connection_weights = np.load('connection_weights.npy').item()\n",
    "garsons_weights = np.load('garsons_weights.npy').item()\n",
    "sensitivity_weights = np.load('sensitivity_weights.npy').item()\n",
    "perturb_weights = np.load('perturb_weights.npy').item()\n",
    "\n",
    "global_weights = [perturb_weights, sensitivity_weights, garsons_weights, connection_weights]"
   ]
  },
  {
   "cell_type": "code",
   "execution_count": 3,
   "metadata": {},
   "outputs": [],
   "source": [
    "# Load dataset for feature names (doesn't contain target)\n",
    "df = pd.read_csv(\"processed_df.csv\")\n",
    "feature_names = df.columns"
   ]
  },
  {
   "cell_type": "code",
   "execution_count": 4,
   "metadata": {},
   "outputs": [],
   "source": [
    "#### Create a list with all weights for all feature extraction techniques\n",
    "final_weights = []\n",
    "for i in range(len(global_weights)):\n",
    "    weights = global_weights[i]\n",
    "    weight_array = list()\n",
    "    for j in range(len(feature_names)):\n",
    "        if feature_names[j] in weights:\n",
    "            weight_array.append(weights[feature_names[j]])\n",
    "    final_weights.append(weight_array)"
   ]
  },
  {
   "cell_type": "code",
   "execution_count": 5,
   "metadata": {},
   "outputs": [],
   "source": [
    "# Make all weights positive => Difficult to understand, but sign needs to be ignored.\n",
    "for i in range(len(final_weights)):\n",
    "    for j in range(len(final_weights[i])):\n",
    "        final_weights[i][j] = abs(final_weights[i][j])\n",
    "final_weights = np.array(final_weights)"
   ]
  },
  {
   "cell_type": "markdown",
   "metadata": {},
   "source": [
    "## Perform Sanity Checks"
   ]
  },
  {
   "cell_type": "code",
   "execution_count": 6,
   "metadata": {},
   "outputs": [],
   "source": [
    "knn_clf = pickle.load(open(\"k-nn_model.sav\", 'rb'))\n",
    "model = load_model(\"NN.h5\")"
   ]
  },
  {
   "cell_type": "code",
   "execution_count": 7,
   "metadata": {},
   "outputs": [],
   "source": [
    "X_train = np.load(\"X_train.npy\")\n",
    "X_test = np.load(\"X_test.npy\")\n",
    "y_train = np.load(\"y_train.npy\")\n",
    "y_test = np.load(\"y_test.npy\")"
   ]
  },
  {
   "cell_type": "code",
   "execution_count": 8,
   "metadata": {},
   "outputs": [
    {
     "name": "stdout",
     "output_type": "stream",
     "text": [
      "NN Accuracy Test: 0.8368857312018946\n",
      "k-NN Accuracy Test: 0.6626702190645353\n"
     ]
    }
   ],
   "source": [
    "knn_pred = knn_clf.predict(X_test)\n",
    "nn_pred = model.predict_classes(X_test)\n",
    "print(\"NN Accuracy Test:\", accuracy_score(y_test, nn_pred))\n",
    "print(\"k-NN Accuracy Test:\", accuracy_score(y_test, knn_pred))"
   ]
  },
  {
   "cell_type": "markdown",
   "metadata": {},
   "source": [
    "## Test Global Weighting Case Retreival Techniques"
   ]
  },
  {
   "cell_type": "code",
   "execution_count": 9,
   "metadata": {},
   "outputs": [
    {
     "name": "stdout",
     "output_type": "stream",
     "text": [
      "=====================================\n",
      "Global Searches: k = 1\n",
      "=====================================\n",
      "Perturbation:  0.7480757844878626\n",
      "[[ 182  188  259]\n",
      " [ 180 1064  382]\n",
      " [ 306  387 3808]]\n",
      " \n",
      "Agreement: 0.7676139727649497\n",
      " \n",
      "-------------------------------------\n",
      "Sensitivity:  0.7495559502664298\n",
      "[[ 182  183  264]\n",
      " [ 183 1068  375]\n",
      " [ 301  386 3814]]\n",
      " \n",
      "Agreement: 0.7702782711663706\n",
      " \n",
      "-------------------------------------\n",
      "Garson's Algorithm:  0.7458555358200119\n",
      "[[ 194  169  266]\n",
      " [ 208 1040  378]\n",
      " [ 298  398 3805]]\n",
      " \n",
      "Agreement: 0.7579928952042628\n",
      " \n",
      "-------------------------------------\n",
      "Connection Weights:  0.7057430432208407\n",
      "[[ 141  206  282]\n",
      " [ 203  964  459]\n",
      " [ 331  507 3663]]\n",
      " \n",
      "Agreement: 0.7310538780343399\n",
      " \n",
      "-------------------------------------\n"
     ]
    }
   ],
   "source": [
    "k = 1\n",
    "\n",
    "print(\"=====================================\")\n",
    "print(\"Global Searches: k =\", k)\n",
    "print(\"=====================================\")\n",
    "for i in range(len(final_weights)):\n",
    "        \n",
    "    if i == 0:\n",
    "        technique = \"Perturbation\"\n",
    "    elif i == 1:\n",
    "        technique = \"Sensitivity\"\n",
    "    elif i == 2:\n",
    "        technique = \"Garson's Algorithm\"\n",
    "    elif i == 3:\n",
    "        technique = \"Connection Weights\"\n",
    "        \n",
    "    clf = GlobalWeightedKNN()\n",
    "    clf.fit(X_train, y_train, k=k, weights=final_weights[i])\n",
    "    predictions = clf.predict(X_test)\n",
    "    \n",
    "    print(technique + \": \", accuracy_score(y_test, predictions))\n",
    "    print(confusion_matrix(y_test, predictions, labels=None, sample_weight=None))\n",
    "    print(\" \")\n",
    "    \n",
    "    right = 0\n",
    "    for i in range(len(nn_pred)):\n",
    "        if predictions[i] == nn_pred[i]:\n",
    "            right += 1\n",
    "\n",
    "    print(\"Agreement:\", right/len(nn_pred))\n",
    "    print(\" \")\n",
    "    print(\"-------------------------------------\")"
   ]
  }
 ],
 "metadata": {
  "kernelspec": {
   "display_name": "Python 3",
   "language": "python",
   "name": "python3"
  },
  "language_info": {
   "codemirror_mode": {
    "name": "ipython",
    "version": 3
   },
   "file_extension": ".py",
   "mimetype": "text/x-python",
   "name": "python",
   "nbconvert_exporter": "python",
   "pygments_lexer": "ipython3",
   "version": "3.6.7"
  }
 },
 "nbformat": 4,
 "nbformat_minor": 2
}
